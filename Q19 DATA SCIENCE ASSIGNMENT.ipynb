{
 "cells": [
  {
   "cell_type": "code",
   "execution_count": 1,
   "id": "9c3d0d50",
   "metadata": {},
   "outputs": [],
   "source": [
    "import pandas as pd \n",
    "import numpy as np \n",
    "import statistics "
   ]
  },
  {
   "cell_type": "code",
   "execution_count": 2,
   "id": "bd57fced",
   "metadata": {},
   "outputs": [],
   "source": [
    "test_marks = [34,36,36,38,38,39,39,40,40,41,41,41,41,42,42,45.49,56]"
   ]
  },
  {
   "cell_type": "code",
   "execution_count": 8,
   "id": "0d311193",
   "metadata": {},
   "outputs": [],
   "source": [
    "mean_testM = np.mean([test_marks])"
   ]
  },
  {
   "cell_type": "code",
   "execution_count": 9,
   "id": "2eb230da",
   "metadata": {},
   "outputs": [
    {
     "data": {
      "text/plain": [
       "40.55823529411765"
      ]
     },
     "execution_count": 9,
     "metadata": {},
     "output_type": "execute_result"
    }
   ],
   "source": [
    "mean_testM"
   ]
  },
  {
   "cell_type": "code",
   "execution_count": 10,
   "id": "d283a234",
   "metadata": {},
   "outputs": [],
   "source": [
    "median_testM = np.median([test_marks])"
   ]
  },
  {
   "cell_type": "code",
   "execution_count": 11,
   "id": "fb7ab374",
   "metadata": {},
   "outputs": [
    {
     "data": {
      "text/plain": [
       "40.0"
      ]
     },
     "execution_count": 11,
     "metadata": {},
     "output_type": "execute_result"
    }
   ],
   "source": [
    "median_testM"
   ]
  },
  {
   "cell_type": "code",
   "execution_count": 12,
   "id": "68a7879c",
   "metadata": {},
   "outputs": [],
   "source": [
    "std_testM = statistics.stdev(test_marks)"
   ]
  },
  {
   "cell_type": "code",
   "execution_count": 13,
   "id": "a820ea9f",
   "metadata": {},
   "outputs": [
    {
     "data": {
      "text/plain": [
       "4.814317494845606"
      ]
     },
     "execution_count": 13,
     "metadata": {},
     "output_type": "execute_result"
    }
   ],
   "source": [
    "std_testM"
   ]
  },
  {
   "cell_type": "code",
   "execution_count": null,
   "id": "8a7f0a99",
   "metadata": {},
   "outputs": [],
   "source": []
  }
 ],
 "metadata": {
  "kernelspec": {
   "display_name": "Python 3 (ipykernel)",
   "language": "python",
   "name": "python3"
  },
  "language_info": {
   "codemirror_mode": {
    "name": "ipython",
    "version": 3
   },
   "file_extension": ".py",
   "mimetype": "text/x-python",
   "name": "python",
   "nbconvert_exporter": "python",
   "pygments_lexer": "ipython3",
   "version": "3.11.5"
  }
 },
 "nbformat": 4,
 "nbformat_minor": 5
}
